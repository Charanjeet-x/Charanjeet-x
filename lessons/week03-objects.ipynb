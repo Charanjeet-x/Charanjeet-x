{
  "nbformat": 4,
  "nbformat_minor": 0,
  "metadata": {
    "kernelspec": {
      "display_name": "Python 3",
      "language": "python",
      "name": "python3"
    },
    "language_info": {
      "codemirror_mode": {
        "name": "ipython",
        "version": 2
      },
      "file_extension": ".py",
      "mimetype": "text/x-python",
      "name": "python",
      "nbconvert_exporter": "python",
      "pygments_lexer": "ipython2",
      "version": "2.7.6"
    },
    "colab": {
      "provenance": [],
      "include_colab_link": true
    }
  },
  "cells": [
    {
      "cell_type": "markdown",
      "metadata": {
        "id": "view-in-github",
        "colab_type": "text"
      },
      "source": [
        "<a href=\"https://colab.research.google.com/github/Charanjeet-x/comp215/blob/main/lessons/week03-objects.ipynb\" target=\"_parent\"><img src=\"https://colab.research.google.com/assets/colab-badge.svg\" alt=\"Open In Colab\"/></a>"
      ]
    },
    {
      "cell_type": "markdown",
      "source": [
        "# Classes and Objects\n",
        "Our week 3 lesson workbook, available on Github from the Hamilton-at-CapU/comp215 repository.\n",
        "\n",
        "As usual, the first code block just imports the modules we will use."
      ],
      "metadata": {
        "id": "WBMC0GrjNRTM"
      }
    },
    {
      "cell_type": "code",
      "execution_count": 8,
      "outputs": [],
      "source": [
        "import math\n",
        "import random\n",
        "\n",
        "import matplotlib.pyplot as plt\n",
        "from pprint import pprint"
      ],
      "metadata": {
        "pycharm": {
          "name": "#%%\n"
        },
        "id": "Xuhr0Iqrkl7M",
        "ExecuteTime": {
          "end_time": "2023-12-31T02:31:58.997602Z",
          "start_time": "2023-12-31T02:31:58.976539Z"
        }
      }
    },
    {
      "cell_type": "markdown",
      "source": [
        "### Everything in `python` is an `object`\n",
        "  * and every `object` has a `type`\n",
        "    * use `type(object)` to learn the type of an object\n",
        "    * a `class` is used to define a `type`\n",
        "  * even a `function` is an `object`\n",
        "  * an `object` has attributes, you can just add new attributes to any object (but don't!)\n",
        "\n",
        "A little code to demonstrate..."
      ],
      "metadata": {
        "collapsed": false,
        "id": "VfBdNa_id2Ge"
      }
    },
    {
      "cell_type": "code",
      "execution_count": 29,
      "outputs": [
        {
          "output_type": "stream",
          "name": "stdout",
          "text": [
            "<class 'int'>\n",
            "<class 'bool'>\n",
            "<class 'str'>\n",
            "<class 'list'>\n",
            "<function foo at 0x7d0d906739c0>\n"
          ]
        }
      ],
      "source": [
        "X = 20\n",
        "print(type(X))\n",
        "y = True\n",
        "print(type(y))\n",
        "s = 'Yellow'\n",
        "print(type(s))\n",
        "\n",
        "lists = [1,2,3]\n",
        "print(type(lists))\n",
        "\n",
        "def foo():\n",
        "  pass\n",
        "print(foo)"
      ],
      "metadata": {
        "ExecuteTime": {
          "end_time": "2023-12-31T02:31:59.009106Z",
          "start_time": "2023-12-31T02:31:58.997351Z"
        },
        "id": "yF38Jg-Gd2Gf",
        "outputId": "ece58cc0-b9c9-4169-9f38-c623adaf5015",
        "colab": {
          "base_uri": "https://localhost:8080/"
        }
      }
    },
    {
      "cell_type": "markdown",
      "source": [
        "## Problem: Collision detection using circles\n",
        "A `class` is just a collection of `functions` that all work on the same piece of `data structure`.\n",
        "\n",
        "The `data structure` is defined by the class's `instance variables`.\n",
        "\n",
        "Easiest to understand if we do an example - let's define a `Circle` object type..."
      ],
      "metadata": {
        "collapsed": false,
        "id": "9kidyXF4kl7N"
      }
    },
    {
      "cell_type": "code",
      "execution_count": 107,
      "outputs": [],
      "source": [
        "class Circle:\n",
        "    \"\"\" Representation for the data and operations on a circle \"\"\"\n",
        "    def __init__(self,center:tuple,radius:float):\n",
        "      self.center = center\n",
        "      self.radius = radius\n",
        "\n",
        "    def getRadius(self):\n",
        "      return self.radius\n",
        "\n",
        "    def getCenterX(self):\n",
        "      return self.center[0]\n",
        "\n",
        "    def getCenterY(self):\n",
        "      return self.center[1]\n",
        "\n",
        "    def area(self):\n",
        "      return math.pi* self.radius ** 2\n",
        "\n",
        "      \"\"\" Return the area of this circle \"\"\"\n",
        "\n",
        "    def move(self, offset):\n",
        "      self.center = (self.center[0]+offset[0], self.center[1]+offset[1])\n",
        "      return self.center\n",
        "      \"\"\" Move this circle by given (x,y) offset \"\"\"\n",
        "\n",
        "    def distance(self, other):\n",
        "      \"\"\" Return the distance between this circle and the other one \"\"\"\n",
        "      return math.sqrt((self.center[0]-other.getCenterX())**2 + (self.center[1]-other.getCenterY())**2)\n",
        "\n",
        "    #def distance_edge(self, other):\n",
        "      \"\"\" Return the distance between this circle and the other one \"\"\"\n",
        "     # return self.distance_centre(other)-(self.radius + other.getRadius())\n",
        "\n",
        "    def intersects(self, other):\n",
        "      \"\"\" Return True iff this circle intersects the other one \"\"\"\n",
        "      return self.distance_edge(other) <= 0\n",
        "\n",
        "\n"
      ],
      "metadata": {
        "pycharm": {
          "name": "#%%\n"
        },
        "id": "JzVlJnx0kl7O",
        "ExecuteTime": {
          "end_time": "2023-12-31T02:31:59.009328Z",
          "start_time": "2023-12-31T02:31:59.002235Z"
        }
      }
    },
    {
      "cell_type": "code",
      "execution_count": 109,
      "outputs": [
        {
          "output_type": "stream",
          "name": "stdout",
          "text": [
            "20.0\n",
            "1256.6370614359173\n",
            "(2, 8)\n",
            "3.0\n"
          ]
        },
        {
          "output_type": "error",
          "ename": "AttributeError",
          "evalue": "'Circle' object has no attribute 'interstects'",
          "traceback": [
            "\u001b[0;31m---------------------------------------------------------------------------\u001b[0m",
            "\u001b[0;31mAttributeError\u001b[0m                            Traceback (most recent call last)",
            "\u001b[0;32m<ipython-input-109-7d0ca5020552>\u001b[0m in \u001b[0;36m<cell line: 0>\u001b[0;34m()\u001b[0m\n\u001b[1;32m      7\u001b[0m \u001b[0mprint\u001b[0m\u001b[0;34m(\u001b[0m\u001b[0mp\u001b[0m\u001b[0;34m.\u001b[0m\u001b[0mdistance\u001b[0m\u001b[0;34m(\u001b[0m\u001b[0mq\u001b[0m\u001b[0;34m)\u001b[0m\u001b[0;34m)\u001b[0m\u001b[0;34m\u001b[0m\u001b[0;34m\u001b[0m\u001b[0m\n\u001b[1;32m      8\u001b[0m \u001b[0;31m#print(p.distance_edge(q))\u001b[0m\u001b[0;34m\u001b[0m\u001b[0;34m\u001b[0m\u001b[0m\n\u001b[0;32m----> 9\u001b[0;31m \u001b[0mprint\u001b[0m\u001b[0;34m(\u001b[0m\u001b[0mp\u001b[0m\u001b[0;34m.\u001b[0m\u001b[0minterstects\u001b[0m\u001b[0;34m(\u001b[0m\u001b[0mq\u001b[0m\u001b[0;34m)\u001b[0m\u001b[0;34m)\u001b[0m\u001b[0;34m\u001b[0m\u001b[0;34m\u001b[0m\u001b[0m\n\u001b[0m",
            "\u001b[0;31mAttributeError\u001b[0m: 'Circle' object has no attribute 'interstects'"
          ]
        }
      ],
      "source": [
        "# Test Circle class\n",
        "p = Circle((0,0), 20.0)\n",
        "print(p.getRadius())\n",
        "print(p.area())\n",
        "print(p.move((2,8)))\n",
        "q = Circle((2,5), 14)\n",
        "print(p.distance(q))\n",
        "#print(p.distance_edge(q))\n",
        "print(p.interstects(q))"
      ],
      "metadata": {
        "pycharm": {
          "name": "#%%\n"
        },
        "id": "yAie8rLAkl7P",
        "ExecuteTime": {
          "end_time": "2023-12-31T02:31:59.025360Z",
          "start_time": "2023-12-31T02:31:59.011556Z"
        },
        "outputId": "4faf7c96-0531-4b67-8e3f-ff76294e546b",
        "colab": {
          "base_uri": "https://localhost:8080/",
          "height": 245
        }
      }
    },
    {
      "cell_type": "markdown",
      "source": [
        "## Problem:  Counting\n",
        "When conducting an experiment, it is common to count occurances.  For example\n",
        "\n",
        "* in a physics experiment, we might count the number of atomic collisions in which certain sub-atomic particles were produced\n",
        "* in biology, we might count the number of cells infected by a virus after a fixed time period\n",
        "* in a computational experiment, we might count the frequency with which clusters of a give size form\n",
        "\n",
        "To visualize such experimental results, we would generally plot a histogram, like this:\n"
      ],
      "metadata": {
        "collapsed": false,
        "id": "KgcBUGH4kl7Q"
      }
    },
    {
      "cell_type": "code",
      "source": [
        "# Experiment: Get the age distribution for Cap students\n",
        "n_cap_students = 11500\n",
        "\n",
        "# Simulate getting the age for one Cap student\n",
        "def get_age(student_id):\n",
        "    return int(random.normalvariate(mu=24, sigma=4))  # Normally distributed age with mean of 24 years\n",
        "\n",
        "# Run experiment to obtain the age for each student\n",
        "data = [get_age(id) for id in range(n_cap_students)]\n",
        "\n",
        "# count the number of students in each age class\n",
        "histogram = {}\n",
        "for age in data:\n",
        "    histogram[age] = histogram.get(age, 0) + 1\n",
        "\n",
        "# configure a plot to draw the bar chart in\n",
        "_, ax = plt.subplots()\n",
        "ax.set(\n",
        "    title=\"Age distribution for Cap Students\",\n",
        "    xlabel='Age (years)',\n",
        "    ylabel='Count',\n",
        ")\n",
        "\n",
        "# plot a histogram of the data, divided into n \"equal width\" bins\n",
        "ax.bar(histogram.keys(), histogram.values())\n",
        "plt.show()"
      ],
      "metadata": {
        "id": "HZSz8IftqJ72",
        "outputId": "32756069-7bf9-43c4-a1e8-f4207f14dd4b",
        "colab": {
          "base_uri": "https://localhost:8080/",
          "height": 472
        },
        "ExecuteTime": {
          "end_time": "2023-12-31T02:33:02.083690Z",
          "start_time": "2023-12-31T02:33:01.998264Z"
        }
      },
      "execution_count": 110,
      "outputs": [
        {
          "output_type": "display_data",
          "data": {
            "text/plain": [
              "<Figure size 640x480 with 1 Axes>"
            ],
            "image/png": "[encoded data removed]"
          },
          "metadata": {}
        }
      ]
    },
    {
      "cell_type": "markdown",
      "source": [
        "## Custom Histogram Class\n",
        "\n",
        "Define our own historgram class that serves as a \"wrapper\" for clunky pyplot ax.hist"
      ],
      "metadata": {
        "id": "naDVayQLkznK"
      }
    },
    {
      "cell_type": "code",
      "source": [
        "class Histogram:\n",
        "    \"\"\" A simple histogram with a nice API \"\"\"\n",
        "    def __init__(self, title, xlabel='Categories', ylabel='Count'):\n",
        "        _, ax = plt.subplots()\n",
        "        ax.set(\n",
        "            title=title,\n",
        "            xlabel=xlabel,\n",
        "            ylabel=ylabel,\n",
        "        )\n",
        "        self.ax = ax\n",
        "        self.counts = {}\n",
        "\n",
        "    def count(self, category):\n",
        "        self.counts[category] = self.counts.get(category, 0) + 1\n",
        "\n",
        "    def plot(self):\n",
        "        self.ax.bar(self.counts.keys(), self.counts.values())\n",
        "        plt.show()"
      ],
      "metadata": {
        "id": "Ai9qb3Bolw4h",
        "ExecuteTime": {
          "end_time": "2023-12-31T02:31:59.205268Z",
          "start_time": "2023-12-31T02:31:59.157995Z"
        }
      },
      "execution_count": 111,
      "outputs": []
    },
    {
      "cell_type": "markdown",
      "source": [
        "### The Power of Abstraction\n",
        "\n",
        "The real benefits appear when we go to use this class to solve the original problem.\n",
        "\n",
        "Notice how creating an \"abstraction\" for a histogram makes it much easier to understand what the computation is doing.  Also notice, the class is \"reusable\" - we can now deploy this abstraction any time we need a histogram!"
      ],
      "metadata": {
        "collapsed": false,
        "id": "FxqaorNTd2Gg"
      }
    },
    {
      "cell_type": "code",
      "execution_count": 112,
      "outputs": [
        {
          "output_type": "display_data",
          "data": {
            "text/plain": [
              "<Figure size 640x480 with 1 Axes>"
            ],
            "image/png": "[encoded data removed]"
          },
          "metadata": {}
        }
      ],
      "source": [
        "hist = Histogram(title='Age Distribution for Cap Students', xlabel='Age (years)')\n",
        "for id in range(n_cap_students):\n",
        "    hist.count(get_age(id))\n",
        "hist.plot()"
      ],
      "metadata": {
        "pycharm": {
          "name": "#%%\n"
        },
        "id": "QxLQc9nokl7T",
        "outputId": "43c0dab6-1e10-415b-91bc-4cf658a8c750",
        "colab": {
          "base_uri": "https://localhost:8080/",
          "height": 472
        },
        "ExecuteTime": {
          "end_time": "2023-12-31T02:31:59.277250Z",
          "start_time": "2023-12-31T02:31:59.164409Z"
        }
      }
    },
    {
      "cell_type": "code",
      "execution_count": 112,
      "outputs": [],
      "source": [
        "# Create a scatter plot\n",
        "#Create a Scatter class that absracts the creation of a"
      ],
      "metadata": {
        "pycharm": {
          "name": "#%%\n"
        },
        "id": "-y3O-TIYkl7T",
        "ExecuteTime": {
          "end_time": "2023-12-31T02:31:59.287332Z",
          "start_time": "2023-12-31T02:31:59.279539Z"
        }
      }
    }
  ]
}